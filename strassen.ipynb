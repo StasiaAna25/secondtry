{
 "cells": [
  {
   "cell_type": "code",
   "execution_count": 13,
   "metadata": {},
   "outputs": [],
   "source": [
    "import numpy as np"
   ]
  },
  {
   "cell_type": "code",
   "execution_count": 14,
   "metadata": {},
   "outputs": [],
   "source": [
    "def split_matrix(matrix):\n",
    "    n = matrix.shape[0]\n",
    "    mid = n // 2\n",
    "    A11 = matrix[:mid, :mid]\n",
    "    A12 = matrix[:mid, mid:]\n",
    "    A21 = matrix[mid:, :mid]\n",
    "    A22 = matrix[mid:, mid:]\n",
    "    return A11, A12, A21, A22\n",
    "\n",
    "# Generating two random 2x2 matrices A and B\n",
    "A = np.random.randint(1, 11, size=(2, 2))  \n",
    "B = np.random.randint(1, 11, size=(2, 2))"
   ]
  },
  {
   "cell_type": "code",
   "execution_count": 15,
   "metadata": {},
   "outputs": [
    {
     "name": "stdout",
     "output_type": "stream",
     "text": [
      "Result of Strassen's algorithm (non-recursive) for 2x2 matrices:\n",
      "[[130 100]\n",
      " [ 35  29]]\n"
     ]
    }
   ],
   "source": [
    "def strassen_no_recursive(A, B):\n",
    "   \n",
    "    n = len(A)\n",
    "    if n <= 2:\n",
    "        return np.dot(A,B)\n",
    "    \n",
    "    C = np.zeros((n, n))\n",
    "    \n",
    "    A11, A12, A21, A22 = split_matrix(A)\n",
    "    B11, B12, B21, B22 = split_matrix(B)\n",
    "\n",
    "    M1 = np.dot(A11 + A22, B11 + B22)\n",
    "    M2 = np.dot(A21 + A22, B11)\n",
    "    M3 = np.dot(A11, B12 - B22)\n",
    "    M4 = np.dot(A22, B21 - B11)\n",
    "    M5 = np.dot(A11 + A12, B22)\n",
    "    M6 = np.dot(A21 - A11, B11 + B12)\n",
    "    M7 = np.dot(A12 - A22, B21 + B22)\n",
    "\n",
    "    C11 = M1 + M4 - M5 + M7\n",
    "    C12 = M3 + M5\n",
    "    C21 = M2 + M4\n",
    "    C22 = M1 - M2 + M3 + M6\n",
    "\n",
    "    C = np.array([[C11, C12],\n",
    "                  [C21, C22]])\n",
    "    \n",
    "    return C\n",
    "\n",
    "\n",
    "\n",
    "\n",
    "result_no_recursive = strassen_no_recursive(A, B)\n",
    "print(\"Result of Strassen's algorithm (non-recursive) for 2x2 matrices:\")\n",
    "print(result_no_recursive)\n"
   ]
  },
  {
   "cell_type": "code",
   "execution_count": 16,
   "metadata": {},
   "outputs": [
    {
     "name": "stdout",
     "output_type": "stream",
     "text": [
      "Result of Strassen's algorithm (recursive) for 2x2 matrices:\n",
      "[[130 100]\n",
      " [ 35  29]]\n"
     ]
    }
   ],
   "source": [
    "def strassen(A, B):\n",
    "    n = len(A)\n",
    "    if n <= 2:\n",
    "        return np.dot(A,B)\n",
    "\n",
    "    A11, A12, A21, A22 = split_matrix(A)\n",
    "    B11, B12, B21, B22 = split_matrix(B)\n",
    "\n",
    "    M1 = strassen(A11 + A22, B11 + B22)\n",
    "    M2 = strassen(A21 + A22, B11)\n",
    "    M3 = strassen(A11, B12 - B22)\n",
    "    M4 = strassen(A22, B21 - B11)\n",
    "    M5 = strassen(A11 + A12, B22)\n",
    "    M6 = strassen(A21 - A11, B11 + B12)\n",
    "    M7 = strassen(A12 - A22, B21 + B22)\n",
    "\n",
    "    C11 = M1 + M4 - M5 + M7\n",
    "    C12 = M3 + M5\n",
    "    C21 = M2 + M4\n",
    "    C22 = M1 - M2 + M3 + M6\n",
    "\n",
    "    C = np.array([[C11, C12],\n",
    "                  [C21, C22]])\n",
    "\n",
    "    return C\n",
    "\n",
    "\n",
    "result_recursive = strassen(A, B)\n",
    "print(\"Result of Strassen's algorithm (recursive) for 2x2 matrices:\")\n",
    "print(result_recursive)\n"
   ]
  }
 ],
 "metadata": {
  "kernelspec": {
   "display_name": "Python 3",
   "language": "python",
   "name": "python3"
  },
  "language_info": {
   "codemirror_mode": {
    "name": "ipython",
    "version": 3
   },
   "file_extension": ".py",
   "mimetype": "text/x-python",
   "name": "python",
   "nbconvert_exporter": "python",
   "pygments_lexer": "ipython3",
   "version": "3.12.3"
  }
 },
 "nbformat": 4,
 "nbformat_minor": 2
}
